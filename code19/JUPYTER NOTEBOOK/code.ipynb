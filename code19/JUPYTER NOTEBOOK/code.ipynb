{
 "cells": [
  {
   "cell_type": "code",
   "execution_count": 1,
   "metadata": {},
   "outputs": [],
   "source": [
    "import tensorflow as tf\n",
    "import os"
   ]
  },
  {
   "cell_type": "code",
   "execution_count": 2,
   "metadata": {},
   "outputs": [],
   "source": [
    "IMAGE_SIZE = 224\n",
    "BATCH_SIZE = 64"
   ]
  },
  {
   "cell_type": "code",
   "execution_count": 3,
   "metadata": {},
   "outputs": [],
   "source": [
    "datagen = tf.keras.preprocessing.image.ImageDataGenerator(\n",
    "    rescale = 1./255,\n",
    "    validation_split = 0.2\n",
    ")"
   ]
  },
  {
   "cell_type": "code",
   "execution_count": 4,
   "metadata": {},
   "outputs": [
    {
     "name": "stdout",
     "output_type": "stream",
     "text": [
      "C:\\Users\\aishw\\01_PROJECT\n"
     ]
    }
   ],
   "source": [
    "print(os.getcwd())"
   ]
  },
  {
   "cell_type": "code",
   "execution_count": 5,
   "metadata": {},
   "outputs": [],
   "source": [
    "base_dir = 'C:\\\\Users\\\\aishw\\\\01_PROJECT\\\\data'"
   ]
  },
  {
   "cell_type": "code",
   "execution_count": 6,
   "metadata": {},
   "outputs": [
    {
     "name": "stdout",
     "output_type": "stream",
     "text": [
      "Found 76 images belonging to 2 classes.\n"
     ]
    }
   ],
   "source": [
    "train_generator = datagen.flow_from_directory(base_dir,target_size=(IMAGE_SIZE,IMAGE_SIZE),batch_size=BATCH_SIZE,subset='training')"
   ]
  },
  {
   "cell_type": "code",
   "execution_count": 7,
   "metadata": {},
   "outputs": [
    {
     "name": "stdout",
     "output_type": "stream",
     "text": [
      "Found 18 images belonging to 2 classes.\n"
     ]
    }
   ],
   "source": [
    "val_generator = datagen.flow_from_directory(base_dir,target_size=(IMAGE_SIZE,IMAGE_SIZE),batch_size=BATCH_SIZE,subset='validation')"
   ]
  },
  {
   "cell_type": "code",
   "execution_count": 8,
   "metadata": {},
   "outputs": [
    {
     "name": "stdout",
     "output_type": "stream",
     "text": [
      "{'covid': 0, 'normal': 1}\n"
     ]
    }
   ],
   "source": [
    "print(train_generator.class_indices)"
   ]
  },
  {
   "cell_type": "code",
   "execution_count": 9,
   "metadata": {},
   "outputs": [],
   "source": [
    "labels = '\\n'.join(sorted(train_generator.class_indices.keys()))"
   ]
  },
  {
   "cell_type": "code",
   "execution_count": 10,
   "metadata": {},
   "outputs": [
    {
     "data": {
      "text/plain": [
       "'covid\\nnormal'"
      ]
     },
     "execution_count": 10,
     "metadata": {},
     "output_type": "execute_result"
    }
   ],
   "source": [
    "labels"
   ]
  },
  {
   "cell_type": "code",
   "execution_count": 11,
   "metadata": {},
   "outputs": [],
   "source": [
    "with open('covid_labels.txt','w+') as f:\n",
    "    f.write(labels)"
   ]
  },
  {
   "cell_type": "code",
   "execution_count": 12,
   "metadata": {},
   "outputs": [],
   "source": [
    "IMG_SHAPE =(IMAGE_SIZE,IMAGE_SIZE,3)"
   ]
  },
  {
   "cell_type": "code",
   "execution_count": 13,
   "metadata": {},
   "outputs": [],
   "source": [
    "base_model =tf.keras.applications.MobileNetV2(\n",
    "    input_shape=IMG_SHAPE,\n",
    "    include_top=False,\n",
    "    weights = 'imagenet')"
   ]
  },
  {
   "cell_type": "code",
   "execution_count": 14,
   "metadata": {},
   "outputs": [],
   "source": [
    "base_model.trainable = False"
   ]
  },
  {
   "cell_type": "code",
   "execution_count": 15,
   "metadata": {},
   "outputs": [],
   "source": [
    "model = tf.keras.Sequential([\n",
    "                             base_model,\n",
    "                             tf.keras.layers.Conv2D(32,4, activation='relu'),\n",
    "                             tf.keras.layers.Dropout(0.2),\n",
    "                             tf.keras.layers.GlobalAveragePooling2D(),\n",
    "                             tf.keras.layers.Dense(2,activation='softmax')\n",
    "                             ])"
   ]
  },
  {
   "cell_type": "code",
   "execution_count": 16,
   "metadata": {},
   "outputs": [
    {
     "name": "stdout",
     "output_type": "stream",
     "text": [
      "Model: \"sequential\"\n",
      "_________________________________________________________________\n",
      "Layer (type)                 Output Shape              Param #   \n",
      "=================================================================\n",
      "mobilenetv2_1.00_224 (Functi (None, 7, 7, 1280)        2257984   \n",
      "_________________________________________________________________\n",
      "conv2d (Conv2D)              (None, 4, 4, 32)          655392    \n",
      "_________________________________________________________________\n",
      "dropout (Dropout)            (None, 4, 4, 32)          0         \n",
      "_________________________________________________________________\n",
      "global_average_pooling2d (Gl (None, 32)                0         \n",
      "_________________________________________________________________\n",
      "dense (Dense)                (None, 2)                 66        \n",
      "=================================================================\n",
      "Total params: 2,913,442\n",
      "Trainable params: 655,458\n",
      "Non-trainable params: 2,257,984\n",
      "_________________________________________________________________\n"
     ]
    }
   ],
   "source": [
    "model.summary()"
   ]
  },
  {
   "cell_type": "code",
   "execution_count": 17,
   "metadata": {},
   "outputs": [],
   "source": [
    "model.compile(optimizer=tf.keras.optimizers.Adam(),loss='categorical_crossentropy',metrics=['accuracy'])"
   ]
  },
  {
   "cell_type": "code",
   "execution_count": 22,
   "metadata": {},
   "outputs": [],
   "source": [
    "epochs=40"
   ]
  },
  {
   "cell_type": "code",
   "execution_count": null,
   "metadata": {},
   "outputs": [],
   "source": []
  },
  {
   "cell_type": "code",
   "execution_count": 19,
   "metadata": {},
   "outputs": [],
   "source": [
    "import PIL"
   ]
  },
  {
   "cell_type": "code",
   "execution_count": 23,
   "metadata": {},
   "outputs": [
    {
     "name": "stdout",
     "output_type": "stream",
     "text": [
      "Epoch 1/40\n",
      "2/2 [==============================] - 1s 599ms/step - loss: 8.8800e-05 - accuracy: 1.0000 - val_loss: 4.5511e-05 - val_accuracy: 1.0000\n",
      "Epoch 2/40\n",
      "2/2 [==============================] - 1s 487ms/step - loss: 1.2025e-04 - accuracy: 1.0000 - val_loss: 4.5458e-05 - val_accuracy: 1.0000\n",
      "Epoch 3/40\n",
      "2/2 [==============================] - 1s 465ms/step - loss: 1.3557e-04 - accuracy: 1.0000 - val_loss: 4.5405e-05 - val_accuracy: 1.0000\n",
      "Epoch 4/40\n",
      "2/2 [==============================] - 1s 465ms/step - loss: 8.9073e-05 - accuracy: 1.0000 - val_loss: 4.5313e-05 - val_accuracy: 1.0000\n",
      "Epoch 5/40\n",
      "2/2 [==============================] - 1s 469ms/step - loss: 6.3516e-05 - accuracy: 1.0000 - val_loss: 4.5114e-05 - val_accuracy: 1.0000\n",
      "Epoch 6/40\n",
      "2/2 [==============================] - 3s 2s/step - loss: 3.4873e-05 - accuracy: 1.0000 - val_loss: 4.4929e-05 - val_accuracy: 1.0000\n",
      "Epoch 7/40\n",
      "2/2 [==============================] - 1s 506ms/step - loss: 9.6097e-05 - accuracy: 1.0000 - val_loss: 4.4558e-05 - val_accuracy: 1.0000\n",
      "Epoch 8/40\n",
      "2/2 [==============================] - 1s 511ms/step - loss: 2.9516e-05 - accuracy: 1.0000 - val_loss: 4.4121e-05 - val_accuracy: 1.0000\n",
      "Epoch 9/40\n",
      "2/2 [==============================] - 1s 540ms/step - loss: 1.1248e-04 - accuracy: 1.0000 - val_loss: 4.3830e-05 - val_accuracy: 1.0000\n",
      "Epoch 10/40\n",
      "2/2 [==============================] - 4s 2s/step - loss: 4.7832e-05 - accuracy: 1.0000 - val_loss: 4.3724e-05 - val_accuracy: 1.0000\n",
      "Epoch 11/40\n",
      "2/2 [==============================] - 4s 2s/step - loss: 7.8033e-05 - accuracy: 1.0000 - val_loss: 4.3545e-05 - val_accuracy: 1.0000\n",
      "Epoch 12/40\n",
      "2/2 [==============================] - 1s 528ms/step - loss: 6.1033e-05 - accuracy: 1.0000 - val_loss: 4.3287e-05 - val_accuracy: 1.0000\n",
      "Epoch 13/40\n",
      "2/2 [==============================] - 4s 2s/step - loss: 5.8247e-05 - accuracy: 1.0000 - val_loss: 4.3042e-05 - val_accuracy: 1.0000\n",
      "Epoch 14/40\n",
      "2/2 [==============================] - 4s 2s/step - loss: 7.5153e-05 - accuracy: 1.0000 - val_loss: 4.2691e-05 - val_accuracy: 1.0000\n",
      "Epoch 15/40\n",
      "2/2 [==============================] - 1s 477ms/step - loss: 1.0469e-04 - accuracy: 1.0000 - val_loss: 4.2419e-05 - val_accuracy: 1.0000\n",
      "Epoch 16/40\n",
      "2/2 [==============================] - 1s 475ms/step - loss: 7.3302e-05 - accuracy: 1.0000 - val_loss: 4.2188e-05 - val_accuracy: 1.0000\n",
      "Epoch 17/40\n",
      "2/2 [==============================] - 1s 480ms/step - loss: 3.5313e-05 - accuracy: 1.0000 - val_loss: 4.1962e-05 - val_accuracy: 1.0000\n",
      "Epoch 18/40\n",
      "2/2 [==============================] - 1s 541ms/step - loss: 6.5383e-05 - accuracy: 1.0000 - val_loss: 4.1658e-05 - val_accuracy: 1.0000\n",
      "Epoch 19/40\n",
      "2/2 [==============================] - 3s 2s/step - loss: 3.7381e-05 - accuracy: 1.0000 - val_loss: 4.1294e-05 - val_accuracy: 1.0000\n",
      "Epoch 20/40\n",
      "2/2 [==============================] - 1s 477ms/step - loss: 8.8096e-05 - accuracy: 1.0000 - val_loss: 4.0916e-05 - val_accuracy: 1.0000\n",
      "Epoch 21/40\n",
      "2/2 [==============================] - 1s 477ms/step - loss: 7.4405e-05 - accuracy: 1.0000 - val_loss: 4.0579e-05 - val_accuracy: 1.0000\n",
      "Epoch 22/40\n",
      "2/2 [==============================] - 3s 2s/step - loss: 1.2827e-04 - accuracy: 1.0000 - val_loss: 4.0195e-05 - val_accuracy: 1.0000\n",
      "Epoch 23/40\n",
      "2/2 [==============================] - 3s 2s/step - loss: 8.5206e-05 - accuracy: 1.0000 - val_loss: 4.0128e-05 - val_accuracy: 1.0000\n",
      "Epoch 24/40\n",
      "2/2 [==============================] - 3s 2s/step - loss: 3.7089e-05 - accuracy: 1.0000 - val_loss: 3.9910e-05 - val_accuracy: 1.0000\n",
      "Epoch 25/40\n",
      "2/2 [==============================] - 4s 2s/step - loss: 1.4196e-04 - accuracy: 1.0000 - val_loss: 3.9811e-05 - val_accuracy: 1.0000\n",
      "Epoch 26/40\n",
      "2/2 [==============================] - 1s 501ms/step - loss: 6.5031e-05 - accuracy: 1.0000 - val_loss: 3.9764e-05 - val_accuracy: 1.0000\n",
      "Epoch 27/40\n",
      "2/2 [==============================] - 1s 503ms/step - loss: 3.1860e-05 - accuracy: 1.0000 - val_loss: 3.9678e-05 - val_accuracy: 1.0000\n",
      "Epoch 28/40\n",
      "2/2 [==============================] - 1s 507ms/step - loss: 2.2672e-05 - accuracy: 1.0000 - val_loss: 3.9546e-05 - val_accuracy: 1.0000\n",
      "Epoch 29/40\n",
      "2/2 [==============================] - 1s 477ms/step - loss: 1.0141e-04 - accuracy: 1.0000 - val_loss: 3.9268e-05 - val_accuracy: 1.0000\n",
      "Epoch 30/40\n",
      "2/2 [==============================] - 1s 478ms/step - loss: 5.7891e-05 - accuracy: 1.0000 - val_loss: 3.8963e-05 - val_accuracy: 1.0000\n",
      "Epoch 31/40\n",
      "2/2 [==============================] - 3s 2s/step - loss: 2.8431e-05 - accuracy: 1.0000 - val_loss: 3.8718e-05 - val_accuracy: 1.0000\n",
      "Epoch 32/40\n",
      "2/2 [==============================] - 1s 476ms/step - loss: 2.3500e-04 - accuracy: 1.0000 - val_loss: 3.8089e-05 - val_accuracy: 1.0000\n",
      "Epoch 33/40\n",
      "2/2 [==============================] - 1s 599ms/step - loss: 1.1953e-04 - accuracy: 1.0000 - val_loss: 3.7136e-05 - val_accuracy: 1.0000\n",
      "Epoch 34/40\n",
      "2/2 [==============================] - 1s 482ms/step - loss: 2.3418e-05 - accuracy: 1.0000 - val_loss: 3.6037e-05 - val_accuracy: 1.0000\n",
      "Epoch 35/40\n",
      "2/2 [==============================] - 1s 482ms/step - loss: 1.6189e-04 - accuracy: 1.0000 - val_loss: 3.5712e-05 - val_accuracy: 1.0000\n",
      "Epoch 36/40\n",
      "2/2 [==============================] - 1s 481ms/step - loss: 1.9051e-05 - accuracy: 1.0000 - val_loss: 3.5970e-05 - val_accuracy: 1.0000\n",
      "Epoch 37/40\n",
      "2/2 [==============================] - 1s 473ms/step - loss: 4.8567e-05 - accuracy: 1.0000 - val_loss: 3.6110e-05 - val_accuracy: 1.0000\n",
      "Epoch 38/40\n",
      "2/2 [==============================] - 3s 2s/step - loss: 4.9662e-05 - accuracy: 1.0000 - val_loss: 3.6189e-05 - val_accuracy: 1.0000\n",
      "Epoch 39/40\n",
      "2/2 [==============================] - 4s 2s/step - loss: 2.9883e-05 - accuracy: 1.0000 - val_loss: 3.6222e-05 - val_accuracy: 1.0000\n",
      "Epoch 40/40\n",
      "2/2 [==============================] - 1s 480ms/step - loss: 6.1776e-05 - accuracy: 1.0000 - val_loss: 3.6063e-05 - val_accuracy: 1.0000\n"
     ]
    }
   ],
   "source": [
    "history=model.fit(train_generator,epochs=epochs,validation_data=val_generator)"
   ]
  },
  {
   "cell_type": "code",
   "execution_count": 21,
   "metadata": {},
   "outputs": [
    {
     "name": "stdout",
     "output_type": "stream",
     "text": [
      "1/1 [==============================] - 0s 1ms/step - loss: 4.5458e-05 - accuracy: 1.0000\n"
     ]
    },
    {
     "data": {
      "text/plain": [
       "[4.5458367821993306e-05, 1.0]"
      ]
     },
     "execution_count": 21,
     "metadata": {},
     "output_type": "execute_result"
    }
   ],
   "source": [
    "model.evaluate(val_generator)"
   ]
  },
  {
   "cell_type": "code",
   "execution_count": 25,
   "metadata": {},
   "outputs": [],
   "source": [
    "model.save('covid_model.h5')"
   ]
  },
  {
   "cell_type": "code",
   "execution_count": null,
   "metadata": {},
   "outputs": [],
   "source": []
  }
 ],
 "metadata": {
  "kernelspec": {
   "display_name": "Python 3",
   "language": "python",
   "name": "python3"
  },
  "language_info": {
   "codemirror_mode": {
    "name": "ipython",
    "version": 3
   },
   "file_extension": ".py",
   "mimetype": "text/x-python",
   "name": "python",
   "nbconvert_exporter": "python",
   "pygments_lexer": "ipython3",
   "version": "3.8.10"
  }
 },
 "nbformat": 4,
 "nbformat_minor": 4
}
